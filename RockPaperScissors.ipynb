{
 "cells": [
  {
   "cell_type": "code",
   "execution_count": 7,
   "id": "f829b178",
   "metadata": {
    "scrolled": true
   },
   "outputs": [
    {
     "name": "stdout",
     "output_type": "stream",
     "text": [
      "Welcome to Rock, Paper, Scissor! What's your name? Ale\n",
      "\n",
      "Ok Ale let's play! Type 'r' for rock, 'p' for paper and 's' for scissor\n",
      "Hey Ale, are you ready?? 3...2...1...GO! r\n",
      "The computer plays p\n",
      "Oh no! You lost!\n",
      "\n",
      "Wanna play again? Y/N n\n",
      "See you next time!\n",
      "\n",
      "Thank you for playing. Here are your stats:\n",
      "You played 1 game(s) and won 0 game(s)\n",
      "You won 0.0% of the games\n"
     ]
    }
   ],
   "source": [
    "# Define user with a list:\n",
    "# user[0]: name\n",
    "# user[1]: player_choice\n",
    "# user[2]: games played\n",
    "# user[3]: games won\n",
    "user = [\"\",\"\",0,0]\n",
    "\n",
    "#Obtain the player name\n",
    "user[0] = input(\"Welcome to Rock, Paper, Scissor! What's your name? \")\n",
    "print (f\"\\nOk {user[0]} let's play! Type 'r' for rock, 'p' for paper and 's' for scissor\")\n",
    "\n",
    "#Play until keep_play stays True\n",
    "keep_play = True\n",
    "while keep_play == True:\n",
    "    #Player choose rock (r) or paper (p) or scissor(s)\n",
    "    player_choice(user)\n",
    "    #Computer randomly choose rock (r) or paper (p) or scissor(s)\n",
    "    computer_choice = computer_turn()\n",
    "    print (f\"The computer plays {computer_choice}\")\n",
    "    #Define the winner\n",
    "    winner(user,computer_choice)\n",
    "    #Increase the played games\n",
    "    user[2] += 1\n",
    "    #Ask if play again (y) or stop playing (n)\n",
    "    keep_play = play_again() \n",
    "    #Reset the user choice\n",
    "    user[1] = \"\"\n",
    "    \n",
    "#Show a recap of played and won game    \n",
    "recap(user)\n"
   ]
  },
  {
   "cell_type": "code",
   "execution_count": 2,
   "id": "396d5112",
   "metadata": {},
   "outputs": [],
   "source": [
    "def player_choice(user):\n",
    "    while user[1] != \"r\" and user[1] != \"p\" and user[1] != \"s\":\n",
    "        user[1] = input(f\"Hey {user[0]}, are you ready?? 3...2...1...GO! \").lower()\n",
    "    return user[1]"
   ]
  },
  {
   "cell_type": "code",
   "execution_count": 3,
   "id": "0512255a",
   "metadata": {},
   "outputs": [],
   "source": [
    "def computer_turn():\n",
    "    \n",
    "    import random\n",
    "    \n",
    "    options = [\"r\", \"p\", \"s\"] \n",
    "    return random.choice(options)"
   ]
  },
  {
   "cell_type": "code",
   "execution_count": 4,
   "id": "444d4881",
   "metadata": {},
   "outputs": [],
   "source": [
    "def winner(user,computer_choice):\n",
    "    if user[1] == computer_choice:\n",
    "        print (\"Wow! That's a tie!\")\n",
    "    elif user[1] == \"r\":\n",
    "        if computer_choice == \"s\":\n",
    "            user[3] += 1\n",
    "            print (\"Yeah! You won!\")\n",
    "        else:\n",
    "            print (\"Oh no! You lost!\")\n",
    "    elif user[1] == \"p\":\n",
    "        if computer_choice == \"r\":\n",
    "            user[3] += 1\n",
    "            print (\"Yeah! You won!\")\n",
    "        else:\n",
    "            print (\"Oh no! You lost!\")\n",
    "    elif user[1] == \"s\":\n",
    "        if computer_choice == \"p\":\n",
    "            user[3] += 1\n",
    "            print (\"Yeah! You won!\")\n",
    "        else:\n",
    "            print (\"Oh no! You lost!\")"
   ]
  },
  {
   "cell_type": "code",
   "execution_count": 5,
   "id": "1a6d44cf",
   "metadata": {},
   "outputs": [],
   "source": [
    "def play_again():\n",
    "    continue_play = \"\"\n",
    "    while continue_play != \"n\" and continue_play != \"y\":\n",
    "        \n",
    "        continue_play =  input(\"\\nWanna play again? Y/N \").lower()\n",
    "        \n",
    "    if continue_play == 'n':\n",
    "        print (\"See you next time!\")\n",
    "        return False\n",
    "    else:\n",
    "        return True"
   ]
  },
  {
   "cell_type": "code",
   "execution_count": 6,
   "id": "c2e2b0fb",
   "metadata": {},
   "outputs": [],
   "source": [
    "def recap(user):\n",
    "    win_rate = (user[3]/user[2])*100\n",
    "    round(win_rate, 2)\n",
    "    print (f\"\\nThank you for playing. Here are your stats:\\nYou played {user[2]} game(s) and won {user[3]} game(s)\\nYou won {win_rate}% of the games\")"
   ]
  }
 ],
 "metadata": {
  "kernelspec": {
   "display_name": "Python 3 (ipykernel)",
   "language": "python",
   "name": "python3"
  },
  "language_info": {
   "codemirror_mode": {
    "name": "ipython",
    "version": 3
   },
   "file_extension": ".py",
   "mimetype": "text/x-python",
   "name": "python",
   "nbconvert_exporter": "python",
   "pygments_lexer": "ipython3",
   "version": "3.9.7"
  }
 },
 "nbformat": 4,
 "nbformat_minor": 5
}
